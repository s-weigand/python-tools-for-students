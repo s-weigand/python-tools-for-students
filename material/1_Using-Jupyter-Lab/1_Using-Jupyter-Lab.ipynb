{
 "cells": [
  {
   "cell_type": "markdown",
   "metadata": {},
   "source": [
    "# Using JuPyteR-Lab"
   ]
  },
  {
   "cell_type": "markdown",
   "metadata": {},
   "source": [
    "## What is jupyter-lab?\n",
    "\n",
    "`jupyter-lab` is a browser based editor, with its main focus on editing `jupyter-notebooks` (which we will also focus on). \n",
    "It is part of the `jupyter project`, which is an extension of the `iPython project`.\n",
    "The iPython project and especially the iPython-Notebooks, were developed as an effort \n",
    "to have a free and open source alternative to Mathematica, with a similar interface.\n",
    "This is why it also uses an `Input-Output-Cell-Structure` and allows you to have your \n",
    "displayed data (i.e. tables, plots or formulas) right next to the code that produced them.\n",
    "\n",
    "The name JuPyteR is derived from the programming languages which its development\n",
    "initially was focused on `Julia`, `Python` and `R`.\n",
    "But nowadays it can run a lot more programming languages (i.e. bash, C++ or Fortran), as long as you have the needed interpreter or Compiler installed. For a list of available kernels and how to install them, have a look [here](https://github.com/jupyter/jupyter/wiki/Jupyter-kernels)."
   ]
  },
  {
   "cell_type": "markdown",
   "metadata": {},
   "source": [
    "## Why `jupyter-notebooks`?\n",
    "`jupyter-notebooks` are perfect for data exploration and a fast interactive working with code.\n",
    "That you can directly see the output of your code, is helpful if you are new to some specific library or programming in general, because you can see the effect of your changes directly after you applied them.\n",
    "Also since this class is for students and aimed at their day to day university needs (i.e. homework), it is also worth mentioning that `jupyter-notebooks` can be easily exported to PDF (`File->Export Notebook as...->Export Notebook to PDF`).\n",
    "\n",
    "<div class=\"alert alert-info\">\n",
    "    \n",
    "**Note:** \n",
    "    \n",
    "If you want develop a library, GUI or similar, you should choose a proper IDE to do so.\n",
    "    \n",
    "</div>"
   ]
  },
  {
   "cell_type": "markdown",
   "metadata": {},
   "source": [
    "## How to start jupyter?\n",
    "To start jupyter-lab simply open a shell/terminal/command line in the folder you want as the base directory for your project and run: \n",
    "\n",
    "```jupyter lab```\n",
    "\n",
    "This will start the jupyter lab server locally and open its url in your default browser.\n",
    "\n",
    "<div class=\"alert alert-info\">\n",
    "    \n",
    "**Note:** \n",
    "    \n",
    "You can browse all the subdirectories of that folder in the `File Browser` but can't see higher level folders.\n",
    "\n",
    "</div>"
   ]
  },
  {
   "cell_type": "markdown",
   "metadata": {},
   "source": [
    "## Different input modes\n",
    "Jupyter-lab has two different modes to work with cells the `command mode` and the `insert mode`, are used for different interactions with cells.\n",
    "\n",
    "### Command mode\n",
    "The `command mode` is used to control the behavior of a `whole cell` or `multiple cells`, such as creating, deleting or converting the type of cells.\n",
    "It can also be used to faster scroll your notebook, since the navigation with the arrow keys will be on a cell level.\n",
    "To activate the `command mode` press `Esc`. Being in `command mode` is recognizable by the grayed out interior of the cell, the missing blue border around it and the missing courser. \n",
    "\n",
    "![Image of a cell in command mode](images/command_mode_cell.jpg)\n",
    "\n",
    "#### Most commonly used shortkeys\n",
    "* `DD` - `D`eletes currently marked cells (use with caution, this can't be undone by `Ctrl+Z`)\n",
    "* `A` - Creates a cell `A`bove the current cell\n",
    "* `B` - Creates a cell `B`elow the current cell\n",
    "* `M` - Convert current cell to a `Markdown cell`\n",
    "* `Y` - Convert current cell to a `Code cell`\n",
    "* `R` - Convert current cell to a `Raw cell`\n",
    "* `Shift+Arrow Keys` - Mark multiple cells\n",
    "\n",
    "### Insert mode\n",
    "\n",
    "As `command mode` allows you to interact with cells as a whole, `insert mode` allows you to change its content.\n",
    "\n",
    "To activate the `insert mode` press `Enter`. Being in `insert mode` is recognizable by the white interior of the cell, the blue border around it and the blinking courser.\n",
    "\n",
    "![Image of a cell in insert mode](images/insert_mode_cell.jpg)\n",
    "\n",
    "#### Most commonly used shortkeys\n",
    "* `Shift+Enter` -  Runs/Evaluates the cell and selects the cell below (also works in `command mode`)\n",
    "* `Ctrl+Enter` - Runs/Evaluates cell inplace (also works in `command mode`)\n",
    "* `Tab` - Autocomplete"
   ]
  },
  {
   "cell_type": "markdown",
   "metadata": {},
   "source": [
    "## Different input cell types\n",
    "By default cell can have one of three types `code cell`, `markdown cell` or `raw cell`, each serve a different purpose.\n",
    "\n",
    "### Code cells (`Ctrl+Y`)\n",
    "The purpose of `code cells` should be quite self explanatory, these cells are used to write the code you want to execute. Which kind of code you want to execute depends on what you told the cell its content is (see `Jupyter-magic`), the default being Python or which ever kernel you started the notebook with."
   ]
  },
  {
   "cell_type": "code",
   "execution_count": null,
   "metadata": {},
   "outputs": [],
   "source": []
  },
  {
   "cell_type": "markdown",
   "metadata": {},
   "source": [
    "### Markdown cells\n",
    "Markdown cells are used to document your code in a structured and RichText fashion.\n",
    "It allows you to insert headings, lists, tables, images and even videos (for more information ).\n",
    "The special extended kind of Markdown used by jupyter notebooks also allows you to write formulas in LaTeX which are then rendered accordingly. \n",
    "\n",
    "The expression: `$\\int^{\\infty}_{-\\infty} f(x) dx$`,\n",
    "\n",
    "Evaluates to: $\\int^{\\infty}_{-\\infty} f(x) dx$\n",
    "\n",
    "<div class=\"alert alert-info\">\n",
    "\n",
    "**Note:**  \n",
    "    \n",
    "For the Markdown to be rendered the cell needs to be executed. If a Markdown cell is empty and was executed it will show the boilerplate text: \n",
    "\n",
    "` 'Type Markdown and LaTeX: $\\alpha^2$'` \n",
    "</div>"
   ]
  },
  {
   "cell_type": "markdown",
   "metadata": {},
   "source": []
  },
  {
   "cell_type": "markdown",
   "metadata": {},
   "source": [
    "### Raw cells\n",
    "The purpose of `raw cells` is to be ignore in the normal notebook and if you convert the notebook i.e. to a LaTeX document, it keeps its content intact and allows you to insert code in your converted document, without having manually temper with the file after conversion over and over again."
   ]
  },
  {
   "cell_type": "raw",
   "metadata": {},
   "source": []
  },
  {
   "cell_type": "markdown",
   "metadata": {},
   "source": [
    "<div class=\"alert alert-info\">\n",
    "    \n",
    "**Note:** \n",
    " \n",
    "There also are slide cells for presentations, which we might cover in a later chapter.\n",
    "\n",
    "</div>"
   ]
  },
  {
   "cell_type": "markdown",
   "metadata": {},
   "source": [
    "## Jupyter-magic\n",
    "\n",
    "The so called `jupyter-magic` is a collection of special commands, \n",
    "which allow you to influence behavior jupyter-lab and/or to run with different kernels.\n",
    "Jupyter-magic is grouped in two kinds, the `line-magic` and `cell magic`.\n",
    "An other kind of magic is `OSMagic` (`system calls`), which depend on the terminal you opened jupyter-lab with\n",
    "and return the same result as calling that command from the terminal directly.\n",
    "\n",
    "<div class=\"alert alert-info\">\n",
    "\n",
    "**Note:**\n",
    "\n",
    " On Windows we recommended to run it in Git-Bash or a similar Posix based terminal, since those terminals are much more powerful than the default Windows ones (`CMD`, `Powershell`).\n",
    "\n",
    "</div> \n",
    "\n",
    "### Line magic\n",
    "Commands listed as `line magic` only apply to a single line and start with a `%`.\n",
    "\n",
    "#### Most commonly used line magic\n",
    "\n",
    "* `%lsmagic` - Lists the available magic commands.\n",
    "* `%timeit` - This is used to gain information about the execution time of a single line of code, by running it multiple times and measuring the time it took to finish.\n",
    "* `%ls` - Lists all files and directories (OS independent)\n",
    "* `%pycat <filename>` - Displays the content of a file with Python syntax highlighting\n",
    "* `%matplotlib inline` - This is normally used at the start of a notebook and includes figures generated with `matplotlib`, which are returned by your code, directly in the corresponding output cell.\n",
    "* `%matplotlib notebook` - More or less the same as `%matplotlib inline` but the plots are more interactive.\n"
   ]
  },
  {
   "cell_type": "code",
   "execution_count": 1,
   "metadata": {
    "tags": [
     "nbval-ignore-output"
    ]
   },
   "outputs": [
    {
     "data": {
      "application/json": {
       "cell": {
        "!": "OSMagics",
        "HTML": "Other",
        "SVG": "Other",
        "bash": "Other",
        "capture": "ExecutionMagics",
        "cmd": "Other",
        "debug": "ExecutionMagics",
        "file": "Other",
        "html": "DisplayMagics",
        "javascript": "DisplayMagics",
        "js": "DisplayMagics",
        "latex": "DisplayMagics",
        "markdown": "DisplayMagics",
        "perl": "Other",
        "prun": "ExecutionMagics",
        "pypy": "Other",
        "python": "Other",
        "python2": "Other",
        "python3": "Other",
        "ruby": "Other",
        "script": "ScriptMagics",
        "sh": "Other",
        "svg": "DisplayMagics",
        "sx": "OSMagics",
        "system": "OSMagics",
        "time": "ExecutionMagics",
        "timeit": "ExecutionMagics",
        "writefile": "OSMagics"
       },
       "line": {
        "alias": "OSMagics",
        "alias_magic": "BasicMagics",
        "autoawait": "AsyncMagics",
        "autocall": "AutoMagics",
        "automagic": "AutoMagics",
        "autosave": "KernelMagics",
        "bookmark": "OSMagics",
        "cd": "OSMagics",
        "clear": "KernelMagics",
        "cls": "KernelMagics",
        "colors": "BasicMagics",
        "conda": "PackagingMagics",
        "config": "ConfigMagics",
        "connect_info": "KernelMagics",
        "copy": "Other",
        "ddir": "Other",
        "debug": "ExecutionMagics",
        "dhist": "OSMagics",
        "dirs": "OSMagics",
        "doctest_mode": "BasicMagics",
        "echo": "Other",
        "ed": "Other",
        "edit": "KernelMagics",
        "env": "OSMagics",
        "gui": "BasicMagics",
        "hist": "Other",
        "history": "HistoryMagics",
        "killbgscripts": "ScriptMagics",
        "ldir": "Other",
        "less": "KernelMagics",
        "load": "CodeMagics",
        "load_ext": "ExtensionMagics",
        "loadpy": "CodeMagics",
        "logoff": "LoggingMagics",
        "logon": "LoggingMagics",
        "logstart": "LoggingMagics",
        "logstate": "LoggingMagics",
        "logstop": "LoggingMagics",
        "ls": "Other",
        "lsmagic": "BasicMagics",
        "macro": "ExecutionMagics",
        "magic": "BasicMagics",
        "matplotlib": "PylabMagics",
        "mkdir": "Other",
        "more": "KernelMagics",
        "notebook": "BasicMagics",
        "page": "BasicMagics",
        "pastebin": "CodeMagics",
        "pdb": "ExecutionMagics",
        "pdef": "NamespaceMagics",
        "pdoc": "NamespaceMagics",
        "pfile": "NamespaceMagics",
        "pinfo": "NamespaceMagics",
        "pinfo2": "NamespaceMagics",
        "pip": "PackagingMagics",
        "popd": "OSMagics",
        "pprint": "BasicMagics",
        "precision": "BasicMagics",
        "prun": "ExecutionMagics",
        "psearch": "NamespaceMagics",
        "psource": "NamespaceMagics",
        "pushd": "OSMagics",
        "pwd": "OSMagics",
        "pycat": "OSMagics",
        "pylab": "PylabMagics",
        "qtconsole": "KernelMagics",
        "quickref": "BasicMagics",
        "recall": "HistoryMagics",
        "rehashx": "OSMagics",
        "reload_ext": "ExtensionMagics",
        "ren": "Other",
        "rep": "Other",
        "rerun": "HistoryMagics",
        "reset": "NamespaceMagics",
        "reset_selective": "NamespaceMagics",
        "rmdir": "Other",
        "run": "ExecutionMagics",
        "save": "CodeMagics",
        "sc": "OSMagics",
        "set_env": "OSMagics",
        "store": "StoreMagics",
        "sx": "OSMagics",
        "system": "OSMagics",
        "tb": "ExecutionMagics",
        "time": "ExecutionMagics",
        "timeit": "ExecutionMagics",
        "unalias": "OSMagics",
        "unload_ext": "ExtensionMagics",
        "who": "NamespaceMagics",
        "who_ls": "NamespaceMagics",
        "whos": "NamespaceMagics",
        "xdel": "NamespaceMagics",
        "xmode": "BasicMagics"
       }
      },
      "text/plain": [
       "Available line magics:\n",
       "%alias  %alias_magic  %autoawait  %autocall  %automagic  %autosave  %bookmark  %cd  %clear  %cls  %colors  %conda  %config  %connect_info  %copy  %ddir  %debug  %dhist  %dirs  %doctest_mode  %echo  %ed  %edit  %env  %gui  %hist  %history  %killbgscripts  %ldir  %less  %load  %load_ext  %loadpy  %logoff  %logon  %logstart  %logstate  %logstop  %ls  %lsmagic  %macro  %magic  %matplotlib  %mkdir  %more  %notebook  %page  %pastebin  %pdb  %pdef  %pdoc  %pfile  %pinfo  %pinfo2  %pip  %popd  %pprint  %precision  %prun  %psearch  %psource  %pushd  %pwd  %pycat  %pylab  %qtconsole  %quickref  %recall  %rehashx  %reload_ext  %ren  %rep  %rerun  %reset  %reset_selective  %rmdir  %run  %save  %sc  %set_env  %store  %sx  %system  %tb  %time  %timeit  %unalias  %unload_ext  %who  %who_ls  %whos  %xdel  %xmode\n",
       "\n",
       "Available cell magics:\n",
       "%%!  %%HTML  %%SVG  %%bash  %%capture  %%cmd  %%debug  %%file  %%html  %%javascript  %%js  %%latex  %%markdown  %%perl  %%prun  %%pypy  %%python  %%python2  %%python3  %%ruby  %%script  %%sh  %%svg  %%sx  %%system  %%time  %%timeit  %%writefile\n",
       "\n",
       "Automagic is ON, % prefix IS NOT needed for line magics."
      ]
     },
     "execution_count": 1,
     "metadata": {},
     "output_type": "execute_result"
    }
   ],
   "source": [
    "%lsmagic"
   ]
  },
  {
   "cell_type": "markdown",
   "metadata": {},
   "source": [
    "### Cell magic\n",
    "Commands listed as `cell magic` apply to a whole cell and start with `%%`.\n",
    "\n",
    "#### Most commonly used cell magic\n",
    "\n",
    "* `%%timeit` - This is used to gain information about the execution time of a cell of code, by running it multiple times and measuring the time it took to finish.\n",
    "* `%%bash` - Makes the code written in a code cell be executed if it it was a bash script (this also works for other languages, depending on which kernels you have installed).\n",
    "* `%%writefile <filename>` - Writes the content of a cell, to a given file."
   ]
  },
  {
   "cell_type": "code",
   "execution_count": 2,
   "metadata": {
    "tags": [
     "nbval-ignore-output",
     "flake8-noqa-cell",
     "nbval-skip"
    ]
   },
   "outputs": [
    {
     "name": "stdout",
     "output_type": "stream",
     "text": [
      "total 32\n",
      "drwxrwxrwx 1 dafuq dafuq  4096 Jul 22 15:54 .\n",
      "drwxrwxrwx 1 dafuq dafuq  4096 Jun 15 00:15 ..\n",
      "drwxrwxrwx 1 dafuq dafuq  4096 Feb  7 13:54 .ipynb_checkpoints\n",
      "-rwxrwxrwx 1 dafuq dafuq 29504 Jul 22 15:55 1_Using-Jupyter-Lab.ipynb\n",
      "drwxrwxrwx 1 dafuq dafuq  4096 Apr 14 16:19 images\n"
     ]
    }
   ],
   "source": [
    "%%bash\n",
    "ls -la"
   ]
  },
  {
   "cell_type": "markdown",
   "metadata": {},
   "source": [
    "### System calls (`OSMagics`)\n",
    "System calls start with a `!` and execute a command as if it was run in the terminal jupyter lab was started with.\n",
    "\n",
    "#### Most commonly used system calls (posix like system)\n",
    "\n",
    "* `!ls -la` - Lists all files and directories (also hidden ones), as well as their size and read, write, execution rights.\n",
    "* `!head <filename>` - Displays the first lines of a file. This is especially helpful if you want to read text files, which contain a table like structure and you aren't sure which is the column separating character is.\n",
    "* `!tail <filename>` - Displays the last lines of a file. This is useful if you want to see the progress of a log file (what were the last written entries).\n",
    "* `!pwd` - Displays the path of the current working directory."
   ]
  },
  {
   "cell_type": "code",
   "execution_count": 3,
   "metadata": {
    "tags": [
     "nbval-ignore-output"
    ]
   },
   "outputs": [
    {
     "name": "stdout",
     "output_type": "stream",
     "text": [
      "total 32\n",
      "drwxr-xr-x 1 dafuq 197121     0 Jul 22 15:54 .\n",
      "drwxr-xr-x 1 dafuq 197121     0 Jun 15 00:15 ..\n",
      "drwxr-xr-x 1 dafuq 197121     0 Feb  7 13:54 .ipynb_checkpoints\n",
      "-rw-r--r-- 1 dafuq 197121 29504 Jul 22 15:55 1_Using-Jupyter-Lab.ipynb\n",
      "drwxr-xr-x 1 dafuq 197121     0 Apr 14 16:19 images\n"
     ]
    }
   ],
   "source": [
    "!ls -la"
   ]
  },
  {
   "cell_type": "markdown",
   "metadata": {},
   "source": [
    "## Getting familiar with shortcuts (`Ctrl+Shift+C`)\n",
    "\n",
    "The easiest way to get familiar with the commands you can run and their keyboard shortcuts, is to use the `commands panel` (`Ctrl+Shift+C` or click the Icon ![Commands Icon](images/commands_icon.jpg) on the left panel selection).\n",
    "\n",
    "Using `commands panel` you can also execute commands, which don't have a shortcut like `Restart Kernel and Run All Cells...`.\n",
    "Since the search is a [fuzzy search](https://en.wikipedia.org/wiki/Approximate_string_matching) it also helps to find commands, which command name you don't know exactly or to simply look up which commands you can use.\n"
   ]
  },
  {
   "cell_type": "markdown",
   "metadata": {},
   "source": [
    "## Getting help information\n",
    "In Python proper written functions/classes/methods contain information about what they are supposed to do and sometimes even usage examples. This is called the `docstring` and gives the first help in how to use something. In jupyter lab this `docstring` can be accessed in multiple ways.\n",
    "\n",
    "### Print help (`?`)\n",
    "In jupyter lab the `?` is a special symbol. If it's written before or after an expression, the docstring of this expression will be written to the output cell, when the cell is executed.\n",
    "\n",
    "<div class=\"alert alert-info\">\n",
    "\n",
    "**Note:**\n",
    "\n",
    "If a function/method is being called (has `()` at the end), this doesn't work and will give you an error.\n",
    "    \n",
    "</div>"
   ]
  },
  {
   "cell_type": "code",
   "execution_count": 4,
   "metadata": {
    "tags": [
     "nbval-ignore-output"
    ]
   },
   "outputs": [
    {
     "data": {
      "text/plain": [
       "\u001b[1;31mDocstring:\u001b[0m\n",
       "%%bash script magic\n",
       "\n",
       "Run cells with bash in a subprocess.\n",
       "\n",
       "This is a shortcut for `%%script bash`\n",
       "\u001b[1;31mFile:\u001b[0m      c:\\anaconda3\\lib\\site-packages\\ipython\\core\\magics\\script.py\n"
      ]
     },
     "metadata": {},
     "output_type": "display_data"
    }
   ],
   "source": [
    "%%bash?"
   ]
  },
  {
   "cell_type": "code",
   "execution_count": 5,
   "metadata": {
    "tags": [
     "nbval-ignore-output"
    ]
   },
   "outputs": [
    {
     "data": {
      "text/plain": [
       "\u001b[1;31mDocstring:\u001b[0m\n",
       "%%bash script magic\n",
       "\n",
       "Run cells with bash in a subprocess.\n",
       "\n",
       "This is a shortcut for `%%script bash`\n",
       "\u001b[1;31mFile:\u001b[0m      c:\\anaconda3\\lib\\site-packages\\ipython\\core\\magics\\script.py\n"
      ]
     },
     "metadata": {},
     "output_type": "display_data"
    }
   ],
   "source": [
    "?%%bash"
   ]
  },
  {
   "cell_type": "markdown",
   "metadata": {},
   "source": [
    "### Quick help (`Ctrl+Shift`)\n",
    "Another method to get a fast glimps of the `docstring` is the quick help function, which is triggered by pressing `Ctrl+Shift` and will open a small popup window above your cursor. This is especially useful if you just want to look up the function-/method-signature, because you forgot which argument was at  which place or you aren't sure what a keyword argument (`kwarg`) was called.\n",
    "\n",
    "\n",
    "![quickhelp](images/quickhelp.jpg)\n",
    "\n",
    "### Inspector/Contextual Help window(`Ctrl+I`)\n",
    "Last but not least, you can also open the Inspector/Contextual Help window by pressing `Ctrl+I`.\n",
    "The inspector shows the `docstring` of the code while you are typing it, in separate tab which you can i.e. arrange right next to your code.\n",
    "This is especially useful if you are learning to program or are starting to work with a new package/library and aren't familiar with all its functionality yet. \n",
    "\n",
    "<div class=\"alert alert-info\">\n",
    "\n",
    "**Note:**\n",
    "    \n",
    "The `Inspector` was renamed to `Contextual Help` in `jupyterlab 1.0` and also changed usage behavior.\n",
    "While the `Inspector` listened to keyboard input and changed its content while typing, \n",
    "with the `Contextual Help` you select elements by clicking at them and they stay the same while you type.\n",
    "    \n",
    "</div>\n",
    "\n",
    "![instector](images/inspector.jpg)"
   ]
  },
  {
   "cell_type": "markdown",
   "metadata": {},
   "source": [
    "## Cutomizing jupyter-lab\n",
    "`Jupyter lab` has a lot of extensions (plugins), which can give you a better experience writing your code and change your editors capabilities how you need them. A list of great extensions can be found at [awesome-jupyterlab](https://github.com/mauhai/awesome-jupyterlab).\n",
    "\n",
    "\n",
    "Our recommended extensions are:\n",
    "\n",
    "* [Jupyter Widgets](https://ipywidgets.readthedocs.io/en/latest/user_install.html)\n",
    "    Adds sliders and other dynamic inputs you can use to make your notebooks more interactive.\n",
    "    \n",
    "* [Spellcheckeing](https://github.com/ijmbarr/jupyterlab_spellchecker)\n",
    "    Adds spellchecking for english language in markdown cells.\n",
    "    \n",
    "* [Variableinspector](https://github.com/lckr/jupyterlab-variableInspector)\n",
    "    Adds a tab showing the variables which exist in the current session.\n",
    "    \n",
    "* [Code Formatter](https://github.com/ryantam626/jupyterlab_code_formatter)\n",
    "    Formats your code in the selected style.\n",
    "    \n",
    "* [Jupyterlab Celltags](https://github.com/jupyterlab/jupyterlab-celltags)\n",
    "    Allows to add ``Tags`` (meta information) to cells. This addon is part of the jupyter lab core since the 2.0 release.\n",
    "    \n",
    "* [Jupyterlab TOC](https://github.com/jupyterlab/jupyterlab-toc)\n",
    "    Adds a TOC (Table of Content) navigation panel.\n",
    "    \n",
    "* [Jupyterlab Shortcutui](https://github.com/jupyterlab/jupyterlab-shortcutui)\n",
    "    Adds a graphical shortcut editor."
   ]
  },
  {
   "cell_type": "markdown",
   "metadata": {},
   "source": [
    "## Common Pitfalls/Missconceptions\n",
    "### Execution order matters/Interpreter runtime memory\n",
    "Since normally all cells in jupyter-notebook are executed with the same kernel, the order of execution matters. If you for example define a variable `a=2` at the start of a notebook, run some code depending on it (i.e. `[In]a+5`, `[Out] 7`) in a different cell, redefine `a=3` at the end of your notebook and run the cell with code depending on `a` again, it will give a different output (`[Out] 8`) since `a` has changed. \n",
    "This allows you to run parts of you code without having to rerun everything again (i.e. very useful if you have a long running simulation and want to style the plot of the results).\n",
    "But it can also lead to problems, when we don't take this behavior into account when writing the code.\n",
    "\n",
    "#### Common Problems:\n",
    "* **Broken Notebook** - \n",
    "The most severe problem that can occur is that when you open your notebook again and want to run your code (`Run All Cells`), it fails at a specific cell telling you that something (i.e. function, variable) isn't defined.\n",
    "The most common reason for that is that you deleted/renamed that 'something'/its cell in the last session or defined 'something' in a cell below the cell where it is first needed.  \n",
    "Since the kernel still remembered/already knew it (deleting from the notebook $\\neq$ deleting from the kernel), everything worked fine, but when you started a new session this 'something', wasn't there when it was needed, since the cells are evaluated in order from top to bottom.\n",
    "\n",
    "<div class=\"alert alert-info\">\n",
    "\n",
    "**Note:**\n",
    "    \n",
    "To solve ordering problems you can move cells in the notebook. \n",
    "\n",
    "</div>\n",
    "\n",
    "* **It doesn't change, even so it should** - \n",
    "This is an error, which will lead to a **Broken Notebook** and often wasts quite some time to find. This mostly happens if you rename (`refacor`) a function/variable in one part of your code, but forgot to change it somewhere else, since the kernel remembers the old function/variable, changing the new one won't affect parts where the old name is still used. \n",
    "\n",
    "#### Solution\n",
    "To make sure that the notebook runs properly even if you run it for the first time, you should **always** confirm that everything it is runnable with a fresh kernel **after refactoring** code or **before stopping to work on it**.\n",
    "You can confirm this by running ``Restart Kernel and Run All Cells...``.\n",
    "\n",
    "### Not rendered Plots\n",
    "\n",
    "By default plots aren't rendered in the output cells. To activate this for `matplotlib` (which is also the default backend for `pandas`) you need to add the magic command `%matplotlib inline` or `%matplotlib notebook`.\n",
    "\n",
    "For other libraries like `bokhe` or `ploty` there are special plugins needed to work in jupyter-lab, since they relay on extra javascript code, those plugin are called [jupyter extensions](https://github.com/ipython-contrib/jupyter_contrib_nbextensions).\n",
    "\n",
    "### ModuleNotFoundError\n",
    "During this course we will introduce different libraries and how to use them. Depending on your Python installation, those might not be installed, which will cause the `ModuleNotFoundError` when you try to run the examples provided. We recommend to use Anaconda as your installation of choice, since the installer are available for all major platforms (Linux, Windows and MacOS) and most modules come as binaries (called `wheels` in Python), which means you don't need to compile them yourself. Also the default Anaconda installer comes with most libraries we present you included. If any library is still missing you can install it by running: \n",
    "\n",
    "`conda  install missing_library_name`.\n",
    "\n",
    "If you don't want to use Anaconda or this library is only on `PyPi` (Python Packagagin Index)  and not on Anaconda, you can always install it by running: \n",
    "\n",
    "`pip  install missing_library_name`. \n"
   ]
  },
  {
   "cell_type": "code",
   "execution_count": 6,
   "metadata": {
    "tags": [
     "raises-exception",
     "flake8-noqa-cell-E402-F401"
    ]
   },
   "outputs": [
    {
     "ename": "ModuleNotFoundError",
     "evalue": "No module named 'not_a_valid_module'",
     "output_type": "error",
     "traceback": [
      "\u001b[1;31m---------------------------------------------------------------------------\u001b[0m",
      "\u001b[1;31mModuleNotFoundError\u001b[0m                       Traceback (most recent call last)",
      "\u001b[1;32m<ipython-input-6-b58700dcf11b>\u001b[0m in \u001b[0;36m<module>\u001b[1;34m\u001b[0m\n\u001b[1;32m----> 1\u001b[1;33m \u001b[1;32mimport\u001b[0m \u001b[0mnot_a_valid_module\u001b[0m\u001b[1;33m\u001b[0m\u001b[1;33m\u001b[0m\u001b[0m\n\u001b[0m",
      "\u001b[1;31mModuleNotFoundError\u001b[0m: No module named 'not_a_valid_module'"
     ]
    }
   ],
   "source": [
    "import not_a_valid_module"
   ]
  }
 ],
 "metadata": {
  "kernelspec": {
   "display_name": "Python 3",
   "language": "python",
   "name": "python3"
  },
  "language_info": {
   "codemirror_mode": {
    "name": "ipython",
    "version": 3
   },
   "file_extension": ".py",
   "mimetype": "text/x-python",
   "name": "python",
   "nbconvert_exporter": "python",
   "pygments_lexer": "ipython3",
   "version": "3.7.3"
  }
 },
 "nbformat": 4,
 "nbformat_minor": 4
}
