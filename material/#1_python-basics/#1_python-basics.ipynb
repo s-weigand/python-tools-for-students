{
 "cells": [
  {
   "cell_type": "markdown",
   "metadata": {},
   "source": [
    "# Python basics recap"
   ]
  },
  {
   "cell_type": "markdown",
   "metadata": {},
   "source": [
    "## Python in general\n",
    "Python is an interpreted language (no compiling needed), which was developed in 1989 by [Guido van Rossum](https://en.wikipedia.org/wiki/Guido_van_Rossum) and is best suited for fast development (experimenting and data exploration).\n",
    "The most common interpreter is ``CPython``, which as the name already suggests is written in C.\n",
    "For computational expansive operation, like massive simulations ``C++`` and ``FORTRAN`` are more suited languages. \n",
    "But as we will see later in this course, there are also fast solutions to do computational intensive work in Python, which can compete with and integrate ``C++`` and ``FORTRAN`` ([numpy](https://numpy.org/) / [numba](https://numba.pydata.org/)).\n",
    "In Python every variable/parameter/function/class-instance is a pointer to an object, which has at least some special hidden methods (``double-underscore-``/``dunder-methods``).\n",
    "Being a pointer based language also allows python easily be dynamically typed (duck typed), which means that what was an object of one type a moment ago (i.e. variable x was a ``str``), could be any onther typee the next moment (i.e. now x is an ``int``)\n",
    "Since in Python every user is considered a ``consensual adult`` there are a lot of ways how you can ``hack around`` and overwrite even language intrinsic function."
   ]
  },
  {
   "cell_type": "code",
   "execution_count": null,
   "metadata": {},
   "outputs": [],
   "source": [
    "_print = print\n",
    "def print(*args, **kwargs):\n",
    "    _print(\"I Hacked print!😝\")\n",
    "    _print(*args, **kwargs)\n",
    "print(\"Hello\")"
   ]
  },
  {
   "cell_type": "markdown",
   "metadata": {},
   "source": [
    "Of course you can also reverse it as easily:"
   ]
  },
  {
   "cell_type": "code",
   "execution_count": null,
   "metadata": {},
   "outputs": [],
   "source": [
    "print = _print\n",
    "print(\"World\")"
   ]
  },
  {
   "cell_type": "markdown",
   "metadata": {},
   "source": [
    "But Python isn't just for mad scientist it's also a fun language, just try its ``hello world`` example:"
   ]
  },
  {
   "cell_type": "code",
   "execution_count": 3,
   "metadata": {},
   "outputs": [
    {
     "name": "stdout",
     "output_type": "stream",
     "text": [
      "Hello world!\n"
     ]
    }
   ],
   "source": [
    "import __hello__"
   ]
  },
  {
   "cell_type": "markdown",
   "metadata": {},
   "source": [
    "If you want to see which philosophy python follow you can allways have a look at the ``Zen of Python``, by simply running the following command."
   ]
  },
  {
   "cell_type": "code",
   "execution_count": 4,
   "metadata": {},
   "outputs": [
    {
     "name": "stdout",
     "output_type": "stream",
     "text": [
      "The Zen of Python, by Tim Peters\n",
      "\n",
      "Beautiful is better than ugly.\n",
      "Explicit is better than implicit.\n",
      "Simple is better than complex.\n",
      "Complex is better than complicated.\n",
      "Flat is better than nested.\n",
      "Sparse is better than dense.\n",
      "Readability counts.\n",
      "Special cases aren't special enough to break the rules.\n",
      "Although practicality beats purity.\n",
      "Errors should never pass silently.\n",
      "Unless explicitly silenced.\n",
      "In the face of ambiguity, refuse the temptation to guess.\n",
      "There should be one-- and preferably only one --obvious way to do it.\n",
      "Although that way may not be obvious at first unless you're Dutch.\n",
      "Now is better than never.\n",
      "Although never is often better than *right* now.\n",
      "If the implementation is hard to explain, it's a bad idea.\n",
      "If the implementation is easy to explain, it may be a good idea.\n",
      "Namespaces are one honking great idea -- let's do more of those!\n"
     ]
    }
   ],
   "source": [
    "import this"
   ]
  },
  {
   "cell_type": "markdown",
   "metadata": {},
   "source": [
    "Or just fly by using the anti gravity import: "
   ]
  },
  {
   "cell_type": "code",
   "execution_count": 5,
   "metadata": {},
   "outputs": [],
   "source": [
    "import antigravity"
   ]
  },
  {
   "cell_type": "markdown",
   "metadata": {},
   "source": [
    "## How to help yourself\n"
   ]
  },
  {
   "cell_type": "markdown",
   "metadata": {},
   "source": [
    "### The ``help function``\n",
    "The ``help function`` will show you the doc-sting (documentation written in the source code) of a given object. It is a fast and easy tool get informations about a function/method  or class-instance, without looking up the documentation on the internet. Of course this will only show something if the author of the code (maybe you?), wrote a doc-string. Doc-strings are written as plain text and for most python libraries online documentation is generated from doc-strings. However for functions/methods and class-instances which have many variables and/or options the online version might be more pleasing for the eye."
   ]
  },
  {
   "cell_type": "code",
   "execution_count": 6,
   "metadata": {},
   "outputs": [
    {
     "name": "stdout",
     "output_type": "stream",
     "text": [
      "Help on built-in function print in module builtins:\n",
      "\n",
      "print(...)\n",
      "    print(value, ..., sep=' ', end='\\n', file=sys.stdout, flush=False)\n",
      "    \n",
      "    Prints the values to a stream, or to sys.stdout by default.\n",
      "    Optional keyword arguments:\n",
      "    file:  a file-like object (stream); defaults to the current sys.stdout.\n",
      "    sep:   string inserted between values, default a space.\n",
      "    end:   string appended after the last value, default a newline.\n",
      "    flush: whether to forcibly flush the stream.\n",
      "\n"
     ]
    }
   ],
   "source": [
    "help(print)"
   ]
  },
  {
   "cell_type": "markdown",
   "metadata": {},
   "source": [
    "### The ``type function``\n",
    "In many cases (especially if you are new to a library) it is of help to know which type an object (especially the return value of a function/method) is of. The ``type function`` will provide you, as the name says, with type of a given object."
   ]
  },
  {
   "cell_type": "code",
   "execution_count": 7,
   "metadata": {},
   "outputs": [
    {
     "data": {
      "text/plain": [
       "str"
      ]
     },
     "execution_count": 7,
     "metadata": {},
     "output_type": "execute_result"
    }
   ],
   "source": [
    "type(\"Hello\")"
   ]
  },
  {
   "cell_type": "markdown",
   "metadata": {},
   "source": [
    "### The ``dir function``\n",
    "If just knowing the type of an object, isn't help enough and you want to learn which attributes (methods are also attributes) an object has, the ``dir function`` will give you an ordered list of its attributes."
   ]
  },
  {
   "cell_type": "code",
   "execution_count": 8,
   "metadata": {},
   "outputs": [
    {
     "data": {
      "text/plain": [
       "['__call__',\n",
       " '__class__',\n",
       " '__delattr__',\n",
       " '__dir__',\n",
       " '__doc__',\n",
       " '__eq__',\n",
       " '__format__',\n",
       " '__ge__',\n",
       " '__getattribute__',\n",
       " '__gt__',\n",
       " '__hash__',\n",
       " '__init__',\n",
       " '__init_subclass__',\n",
       " '__le__',\n",
       " '__lt__',\n",
       " '__module__',\n",
       " '__name__',\n",
       " '__ne__',\n",
       " '__new__',\n",
       " '__qualname__',\n",
       " '__reduce__',\n",
       " '__reduce_ex__',\n",
       " '__repr__',\n",
       " '__self__',\n",
       " '__setattr__',\n",
       " '__sizeof__',\n",
       " '__str__',\n",
       " '__subclasshook__',\n",
       " '__text_signature__']"
      ]
     },
     "execution_count": 8,
     "metadata": {},
     "output_type": "execute_result"
    }
   ],
   "source": [
    "dir(print)"
   ]
  },
  {
   "cell_type": "markdown",
   "metadata": {},
   "source": [
    "## Builtin types"
   ]
  },
  {
   "cell_type": "markdown",
   "metadata": {},
   "source": [
    "### Numbers"
   ]
  },
  {
   "cell_type": "markdown",
   "metadata": {},
   "source": [
    "#### ``int``\n",
    "Unlike the integers in other programming languages the native ``int`` in python won't experience a ``datatype over-/underflow`` (reaching the maxi-/minimum bit value and starting from the opposite bit value). Instead it will grow with its demands and could nearly reach an infinite value."
   ]
  },
  {
   "cell_type": "code",
   "execution_count": 9,
   "metadata": {},
   "outputs": [
    {
     "data": {
      "text/plain": [
       "75153362648762663292463379097258784876021841565066235862633311089030688803667470190838367948312598497021919232"
      ]
     },
     "execution_count": 9,
     "metadata": {},
     "output_type": "execute_result"
    }
   ],
   "source": [
    "2**365 # 2^365"
   ]
  },
  {
   "cell_type": "markdown",
   "metadata": {},
   "source": [
    "Since python 3.6 you are able to use [Underscores in Numeric Literals](https://www.python.org/dev/peps/pep-0515/), which makes big integers much more readable."
   ]
  },
  {
   "cell_type": "code",
   "execution_count": 10,
   "metadata": {},
   "outputs": [
    {
     "data": {
      "text/plain": [
       "1000000"
      ]
     },
     "execution_count": 10,
     "metadata": {},
     "output_type": "execute_result"
    }
   ],
   "source": [
    "1_000_000"
   ]
  },
  {
   "cell_type": "markdown",
   "metadata": {},
   "source": [
    "#### ``bool``\n",
    "Booleans in python are are subclass (mathematically similar to subspace) of integers, with the restriction that the can only be of value ``True`` (1) or ``False`` (0). Which is an [historical artifact](https://stackoverflow.com/a/8169049) of pythons early times, when they were internally represented by their numerical values."
   ]
  },
  {
   "cell_type": "code",
   "execution_count": 11,
   "metadata": {},
   "outputs": [
    {
     "data": {
      "text/plain": [
       "True"
      ]
     },
     "execution_count": 11,
     "metadata": {},
     "output_type": "execute_result"
    }
   ],
   "source": [
    "isinstance(True, int)"
   ]
  },
  {
   "cell_type": "code",
   "execution_count": 12,
   "metadata": {},
   "outputs": [
    {
     "data": {
      "text/plain": [
       "True"
      ]
     },
     "execution_count": 12,
     "metadata": {},
     "output_type": "execute_result"
    }
   ],
   "source": [
    "issubclass(bool, int)"
   ]
  },
  {
   "cell_type": "markdown",
   "metadata": {},
   "source": [
    "Booleans are used in conditions, to check whether or not a statement is right."
   ]
  },
  {
   "cell_type": "code",
   "execution_count": 13,
   "metadata": {},
   "outputs": [
    {
     "data": {
      "text/plain": [
       "False"
      ]
     },
     "execution_count": 13,
     "metadata": {},
     "output_type": "execute_result"
    }
   ],
   "source": [
    "3 > 5"
   ]
  },
  {
   "cell_type": "markdown",
   "metadata": {},
   "source": [
    "#### ``float``\n",
    "The ``float`` in python is a  binary floating-point number, which means that it is internally represented a base 2 fraction. \n",
    "This leads to the so called floating point inaccuracy, which means most rational numbers can't be represented exact, but are represented as their closest base 2 value."
   ]
  },
  {
   "cell_type": "code",
   "execution_count": 14,
   "metadata": {},
   "outputs": [
    {
     "data": {
      "text/plain": [
       "'0.100000000000000005551115123126'"
      ]
     },
     "execution_count": 14,
     "metadata": {},
     "output_type": "execute_result"
    }
   ],
   "source": [
    "format(.1, \".30f\")"
   ]
  },
  {
   "cell_type": "markdown",
   "metadata": {},
   "source": [
    "This can lead to strange behaviors, when comparing the values of floats (**never compare floats for equality**)."
   ]
  },
  {
   "cell_type": "code",
   "execution_count": 15,
   "metadata": {},
   "outputs": [
    {
     "data": {
      "text/plain": [
       "False"
      ]
     },
     "execution_count": 15,
     "metadata": {},
     "output_type": "execute_result"
    }
   ],
   "source": [
    ".1 + .1 + .1 == .3"
   ]
  },
  {
   "cell_type": "markdown",
   "metadata": {},
   "source": [
    "If you need use a very small or very large number, which is represented with a power of 10 as i.e. $k_B=8.617333262145\\times10^{-5}\\frac{\\text{eV}}{\\text{K}}$, you can just end the float with ``e<exponent>``, where ``e`` represents the 10."
   ]
  },
  {
   "cell_type": "code",
   "execution_count": 16,
   "metadata": {},
   "outputs": [
    {
     "data": {
      "text/plain": [
       "'0.00008617333262145'"
      ]
     },
     "execution_count": 16,
     "metadata": {},
     "output_type": "execute_result"
    }
   ],
   "source": [
    "format(8.617333262145e-5, \".17f\")"
   ]
  },
  {
   "cell_type": "markdown",
   "metadata": {},
   "source": [
    "#### ``complex``\n",
    "By default python already knows about complex numbers $\\mathbb{C}$, the imaginary part ($i$) is represented with the letter `j` being a number.\n",
    "Thus you can write a complex number as ``<real part> + <imaginary part>j``"
   ]
  },
  {
   "cell_type": "code",
   "execution_count": 17,
   "metadata": {},
   "outputs": [
    {
     "data": {
      "text/plain": [
       "2j"
      ]
     },
     "execution_count": 17,
     "metadata": {},
     "output_type": "execute_result"
    }
   ],
   "source": [
    "(1+1j)**2"
   ]
  },
  {
   "cell_type": "markdown",
   "metadata": {},
   "source": [
    "### Iterables"
   ]
  },
  {
   "cell_type": "markdown",
   "metadata": {},
   "source": [
    "#### Strings\n",
    "In python strings come in 4 (5, since python 3.6) flavours, which have different usecases."
   ]
  },
  {
   "cell_type": "markdown",
   "metadata": {},
   "source": [
    "##### The ``default/normal string``\n",
    "All strings but the ``byte string``, which only allows ``ASCII`` characters, use utf-8, which allows to use characters special to a specific language or even emojies as you saw in the 'overwriting print' example above. \n",
    "The **normal string** (``\"\"``) is the one you will use the most, but you will have to watch out for the ``\\`` character, which has be escaped in order to be recognized as literal character. On the other hand this allow you to inset special characters as:\n",
    "* tab ``\\t``\n",
    "* new line ``\\n``\n",
    "* literal \" ``\\\"``\n",
    "* literal ' ``\\'``"
   ]
  },
  {
   "cell_type": "code",
   "execution_count": 18,
   "metadata": {},
   "outputs": [
    {
     "name": "stdout",
     "output_type": "stream",
     "text": [
      "testfolder\testfile\n"
     ]
    }
   ],
   "source": [
    "# here the \\t is understood as tab\n",
    "print(\"testfolder\\testfile\")"
   ]
  },
  {
   "cell_type": "code",
   "execution_count": 19,
   "metadata": {},
   "outputs": [
    {
     "name": "stdout",
     "output_type": "stream",
     "text": [
      "testfolder\\testfile\n"
     ]
    }
   ],
   "source": [
    "# here it is understood as the character \\\n",
    "print(\"testfolder\\\\testfile\")"
   ]
  },
  {
   "cell_type": "markdown",
   "metadata": {},
   "source": [
    "If a string gets too long (in python it is considered to best practice for each code line to have less than 80 characters), you can brake the line by adding a ``\\`` behind the string."
   ]
  },
  {
   "cell_type": "code",
   "execution_count": 20,
   "metadata": {},
   "outputs": [
    {
     "data": {
      "text/plain": [
       "'This is a very long sentence that we dont want to write in one line, which is why we break the line with the \\\\ character'"
      ]
     },
     "execution_count": 20,
     "metadata": {},
     "output_type": "execute_result"
    }
   ],
   "source": [
    "\"This is a very long sentence that we dont want to write in one line, \" \\\n",
    "\"which is why we break the line with the \\\\ character\""
   ]
  },
  {
   "cell_type": "markdown",
   "metadata": {},
   "source": [
    "##### The ``raw string``\n",
    "If you don't want to escape ``\\`` each time you use it, you can use the **raw string** (``r\"\"``). \n",
    "This is especially useful if the ``\\`` character is used often in a literal way (i.e. regular expressions or paths on Windows). "
   ]
  },
  {
   "cell_type": "code",
   "execution_count": 21,
   "metadata": {},
   "outputs": [
    {
     "data": {
      "text/plain": [
       "'testfolder\\\\testfile'"
      ]
     },
     "execution_count": 21,
     "metadata": {},
     "output_type": "execute_result"
    }
   ],
   "source": [
    "r\"testfolder\\testfile\""
   ]
  },
  {
   "cell_type": "code",
   "execution_count": 22,
   "metadata": {},
   "outputs": [
    {
     "name": "stdout",
     "output_type": "stream",
     "text": [
      "testfolder\\testfile\n"
     ]
    }
   ],
   "source": [
    "print(r\"testfolder\\testfile\")"
   ]
  },
  {
   "cell_type": "markdown",
   "metadata": {},
   "source": [
    "##### The ``multiline string``\n",
    "For readability reasons you might want to write a piece of text as it is and not concatenate multiple lines of text with new line characters at the end.\n",
    "This (and ``doc-strings``) is where the **multiline sting** (``\"\"\" \"\"\"``) comes into play.\n",
    "This allows you to write your formated text which has multiple lines as it is, note that each new line is taken literally."
   ]
  },
  {
   "cell_type": "code",
   "execution_count": 23,
   "metadata": {},
   "outputs": [
    {
     "data": {
      "text/plain": [
       "'This is \\nsome\\nmultiline\\nstring\\n'"
      ]
     },
     "execution_count": 23,
     "metadata": {},
     "output_type": "execute_result"
    }
   ],
   "source": [
    "\"\"\"This is \n",
    "some\n",
    "multiline\n",
    "string\n",
    "\"\"\""
   ]
  },
  {
   "cell_type": "markdown",
   "metadata": {},
   "source": [
    "##### The ``byte string``\n",
    "**Byte strings** (``b\"\"``) are the string representation of a byte stream. \n",
    "This for of string is especially useful if you read and write binary/not plaintext files.\n",
    "In byte strings only ``ASCII`` characters are allow.\n",
    "To transform a normal string into a byte string, you can use the ``encode`` method which exists on strings.\n",
    "Vice versa you can use the ``decode`` method on a byte string, to convert it back to a normal string.\n",
    "\n",
    "<div class=\"alert alert-info\">\n",
    "**Note:**    \n",
    "\n",
    "To ``decode`` a byte string you did read from a file, you need to know which ``encoding`` the file was saved with.\n",
    "\n",
    "</div>"
   ]
  },
  {
   "cell_type": "code",
   "execution_count": 24,
   "metadata": {},
   "outputs": [
    {
     "data": {
      "text/plain": [
       "b'\\xc3\\xa4'"
      ]
     },
     "execution_count": 24,
     "metadata": {},
     "output_type": "execute_result"
    }
   ],
   "source": [
    "\"ä\".encode()"
   ]
  },
  {
   "cell_type": "code",
   "execution_count": 25,
   "metadata": {},
   "outputs": [
    {
     "data": {
      "text/plain": [
       "'ä'"
      ]
     },
     "execution_count": 25,
     "metadata": {},
     "output_type": "execute_result"
    }
   ],
   "source": [
    "b'\\xc3\\xa4'.decode()"
   ]
  },
  {
   "cell_type": "markdown",
   "metadata": {},
   "source": [
    "##### The ``formated string`` (new in python 3.6)\n",
    "To save time and have a more readable string, python 3.6 introduced the **formated string** (``f\"\"``).\n",
    "This special string allows you to write any valid python expression in curly braces (``{}``), which will than be evaluated in the final string.\n",
    "If you need the literal curly braces, simply type ``{{}}``, inside of the string."
   ]
  },
  {
   "cell_type": "code",
   "execution_count": 26,
   "metadata": {},
   "outputs": [
    {
     "data": {
      "text/plain": [
       "'2 + 2 = 4'"
      ]
     },
     "execution_count": 26,
     "metadata": {},
     "output_type": "execute_result"
    }
   ],
   "source": [
    "\"2 + 2 = {}\".format(2 + 2)"
   ]
  },
  {
   "cell_type": "code",
   "execution_count": 27,
   "metadata": {},
   "outputs": [
    {
     "data": {
      "text/plain": [
       "'2 + 2  = 4, if you need the literal curly braces {}'"
      ]
     },
     "execution_count": 27,
     "metadata": {},
     "output_type": "execute_result"
    }
   ],
   "source": [
    "f\"2 + 2  = {2 + 2}, if you need the literal curly braces {{}}\""
   ]
  },
  {
   "cell_type": "markdown",
   "metadata": {},
   "source": [
    "### Lists\n",
    "Lists are an ordered collection of items, which can be (unlike arrays) of any type.\n"
   ]
  },
  {
   "cell_type": "code",
   "execution_count": null,
   "metadata": {},
   "outputs": [],
   "source": []
  }
 ],
 "metadata": {
  "kernelspec": {
   "display_name": "Python 3",
   "language": "python",
   "name": "python3"
  },
  "language_info": {
   "codemirror_mode": {
    "name": "ipython",
    "version": 3
   },
   "file_extension": ".py",
   "mimetype": "text/x-python",
   "name": "python",
   "nbconvert_exporter": "python",
   "pygments_lexer": "ipython3",
   "version": "3.7.3"
  }
 },
 "nbformat": 4,
 "nbformat_minor": 4
}
